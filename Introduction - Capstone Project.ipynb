{
 "cells": [
  {
   "cell_type": "markdown",
   "id": "f62b57e8-2729-47a3-bfb7-c23fdf17c3cb",
   "metadata": {},
   "source": [
    "# Identifying Food Deserts in Roanoke VA \n",
    "### Hypothesis: do food deserts exist within Roanoke City?\n",
    "\n",
    "#### Introduction:\n",
    "##### In this project, I am to use clustering to find areas where there are few, or no, grocery stores in certain Roanoke-area neighborhoods. Ideally, I will find that no food deserts exist. This could prove interesting to local non-profits, such as the organization LEAP, which aims to help provide healthy food in low-income neighborhoods by linking local farmers to these communities; LEAP leverages grants and donations to help subsidize the cost of food for these neighborhoods. The findings could prove useful for the LEAP team in identifying new places for pop-up markets.\n",
    "\n"
   ]
  },
  {
   "cell_type": "code",
   "execution_count": null,
   "id": "68205a0e-d5cc-4181-a6e2-f0bbe7da725d",
   "metadata": {},
   "outputs": [],
   "source": []
  }
 ],
 "metadata": {
  "kernelspec": {
   "display_name": "Python",
   "language": "python",
   "name": "conda-env-python-py"
  },
  "language_info": {
   "codemirror_mode": {
    "name": "ipython",
    "version": 3
   },
   "file_extension": ".py",
   "mimetype": "text/x-python",
   "name": "python",
   "nbconvert_exporter": "python",
   "pygments_lexer": "ipython3",
   "version": "3.6.13"
  }
 },
 "nbformat": 4,
 "nbformat_minor": 5
}
