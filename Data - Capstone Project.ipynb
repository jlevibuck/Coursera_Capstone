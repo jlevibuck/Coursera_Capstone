{
 "cells": [
  {
   "cell_type": "markdown",
   "id": "9be4bf3a-ad2a-4ab1-bba5-e9b59cf74f38",
   "metadata": {},
   "source": [
    "# Identifying Food Deserts in Roanoke VA\n",
    "### Hypothesis: do food deserts exist within Roanoke City? \n",
    "\n",
    "#### Data:\n",
    "##### Using zip codes for Roanoke City, as well as neighborhood location information and Foursquare data for grocery stores, I will look at clusters that have few grocery stores or food options. Secondarily, I will identify neighborhoods with large clusters of convenience stores. Third, if the geographical data can be found, I would like to map transport information (i.e., bus stops) in these clusters. Last, if possible, I will make a comparison of average wages in areas that have few grocery stores. \n",
    "\n",
    "##### I intend to spot-check my findings using tools like Google Maps, as the city is relatively small and quick visual checks will show if my data pulls and work are correct."
   ]
  },
  {
   "cell_type": "code",
   "execution_count": null,
   "id": "b6a8f6e6-64bf-407d-959e-8a14ea6eb91f",
   "metadata": {},
   "outputs": [],
   "source": []
  }
 ],
 "metadata": {
  "kernelspec": {
   "display_name": "Python",
   "language": "python",
   "name": "conda-env-python-py"
  },
  "language_info": {
   "codemirror_mode": {
    "name": "ipython",
    "version": 3
   },
   "file_extension": ".py",
   "mimetype": "text/x-python",
   "name": "python",
   "nbconvert_exporter": "python",
   "pygments_lexer": "ipython3",
   "version": "3.6.13"
  }
 },
 "nbformat": 4,
 "nbformat_minor": 5
}
